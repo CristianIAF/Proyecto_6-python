{
  "nbformat": 4,
  "nbformat_minor": 0,
  "metadata": {
    "colab": {
      "provenance": []
    },
    "kernelspec": {
      "name": "python3",
      "display_name": "Python 3"
    },
    "language_info": {
      "name": "python"
    }
  },
  "cells": [
    {
      "cell_type": "markdown",
      "source": [
        "####6 - Escribe un programa que genere la tabla de multiplicar de un número entero del 1 al 10, según la elección del usuario. Como ejemplo, para el número 2, la tabla de multiplicar debe mostrarse en el siguiente formato:"
      ],
      "metadata": {
        "id": "CQ_cvHMeEJ3d"
      }
    },
    {
      "cell_type": "markdown",
      "source": [
        "Tabla de multiplicar del 2:\n",
        "2 x 1 = 2\n",
        "2 x 2 = 4\n",
        "[...]\n",
        "2 x 10 = 20\n"
      ],
      "metadata": {
        "id": "iZfLnM-vESJ4"
      }
    },
    {
      "cell_type": "markdown",
      "source": [
        "####Importar Librerías"
      ],
      "metadata": {
        "id": "BAqA3X_9Psr7"
      }
    },
    {
      "cell_type": "code",
      "source": [
        "from sre_constants import error"
      ],
      "metadata": {
        "id": "6KgQlFiAPm0j"
      },
      "execution_count": null,
      "outputs": []
    },
    {
      "cell_type": "markdown",
      "source": [
        "#####Desarrollo de Ejercicio"
      ],
      "metadata": {
        "id": "Owc-MTW2P0JK"
      }
    },
    {
      "cell_type": "markdown",
      "source": [
        "* El bucle \"while True\" asegura que el usuario ingrese un valor válido.\n",
        "\n",
        "* \"try\" maneja entradas no numéricas (ej: letras).\n",
        "\n",
        "* \"int\" da el formato \"Entero\" a la entrada otorgada por el usuario\n",
        "\n",
        "* \"except\" maneja entradas no numéricas (ej: letras)."
      ],
      "metadata": {
        "id": "Kj1n1myUQUSm"
      }
    },
    {
      "cell_type": "code",
      "execution_count": 11,
      "metadata": {
        "colab": {
          "base_uri": "https://localhost:8080/"
        },
        "id": "wzOfWf85qoJA",
        "outputId": "df5da6dd-35dc-4799-d252-da9962c78620"
      },
      "outputs": [
        {
          "output_type": "stream",
          "name": "stdout",
          "text": [
            "Ingrese un número entero (del 1 al 10): 45\n",
            "¡El número debe estar entre 1 y 10!)\n",
            "Ingrese un número entero (del 1 al 10): gordo\n",
            "¡Debe ingresar un número entero!\n",
            "Ingrese un número entero (del 1 al 10): 6\n",
            "\n",
            "Tabla de multiplicar del 6:\n",
            "6 x 1 = 6\n",
            "6 x 2 = 12\n",
            "6 x 3 = 18\n",
            "6 x 4 = 24\n",
            "6 x 5 = 30\n",
            "6 x 6 = 36\n",
            "6 x 7 = 42\n",
            "6 x 8 = 48\n",
            "6 x 9 = 54\n",
            "6 x 10 = 60\n"
          ]
        }
      ],
      "source": [
        "while True:\n",
        "    entrada = input(\"Ingrese un número entero (del 1 al 10): \")\n",
        "    try:\n",
        "        numero = int(entrada)\n",
        "        if 1 <= numero <= 10:\n",
        "            break\n",
        "\n",
        "        else:\n",
        "            print(\"¡El número debe estar entre 1 y 10!)\")\n",
        "\n",
        "    except ValueError:\n",
        "        print(\"¡Debe ingresar un número entero!\")\n",
        "\n",
        "print(f\"\\nTabla de multiplicar del {numero}:\")\n",
        "for i in range(1, 11):\n",
        "    resultado = numero * i\n",
        "    print(f\"{numero} x {i} = {resultado}\")"
      ]
    },
    {
      "cell_type": "code",
      "source": [],
      "metadata": {
        "id": "mxMaZhkByQve"
      },
      "execution_count": null,
      "outputs": []
    }
  ]
}